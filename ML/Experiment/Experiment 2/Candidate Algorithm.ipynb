{
 "cells": [
  {
   "cell_type": "code",
   "execution_count": 1,
   "id": "92aeaede",
   "metadata": {},
   "outputs": [],
   "source": [
    "import pandas as pd\n",
    "import numpy as np\n",
    "import csv"
   ]
  },
  {
   "cell_type": "code",
   "execution_count": 2,
   "id": "16ac7c85",
   "metadata": {},
   "outputs": [],
   "source": [
    "data=pd.read_csv('Candidate_Algo_DS.csv')"
   ]
  },
  {
   "cell_type": "code",
   "execution_count": 3,
   "id": "cac08b81",
   "metadata": {},
   "outputs": [
    {
     "data": {
      "text/html": [
       "<div>\n",
       "<style scoped>\n",
       "    .dataframe tbody tr th:only-of-type {\n",
       "        vertical-align: middle;\n",
       "    }\n",
       "\n",
       "    .dataframe tbody tr th {\n",
       "        vertical-align: top;\n",
       "    }\n",
       "\n",
       "    .dataframe thead th {\n",
       "        text-align: right;\n",
       "    }\n",
       "</style>\n",
       "<table border=\"1\" class=\"dataframe\">\n",
       "  <thead>\n",
       "    <tr style=\"text-align: right;\">\n",
       "      <th></th>\n",
       "      <th>Sunny</th>\n",
       "      <th>Warm</th>\n",
       "      <th>Normal</th>\n",
       "      <th>Strong</th>\n",
       "      <th>Warm.1</th>\n",
       "      <th>Same</th>\n",
       "      <th>Yes</th>\n",
       "    </tr>\n",
       "  </thead>\n",
       "  <tbody>\n",
       "    <tr>\n",
       "      <th>0</th>\n",
       "      <td>Sunny</td>\n",
       "      <td>Warm</td>\n",
       "      <td>High</td>\n",
       "      <td>Strong</td>\n",
       "      <td>Warm</td>\n",
       "      <td>Same</td>\n",
       "      <td>Yes</td>\n",
       "    </tr>\n",
       "    <tr>\n",
       "      <th>1</th>\n",
       "      <td>Rainy</td>\n",
       "      <td>Cold</td>\n",
       "      <td>High</td>\n",
       "      <td>Strong</td>\n",
       "      <td>Warm</td>\n",
       "      <td>Change</td>\n",
       "      <td>No</td>\n",
       "    </tr>\n",
       "    <tr>\n",
       "      <th>2</th>\n",
       "      <td>Sunny</td>\n",
       "      <td>Warm</td>\n",
       "      <td>High</td>\n",
       "      <td>Strong</td>\n",
       "      <td>Cool</td>\n",
       "      <td>Change</td>\n",
       "      <td>Yes</td>\n",
       "    </tr>\n",
       "  </tbody>\n",
       "</table>\n",
       "</div>"
      ],
      "text/plain": [
       "   Sunny  Warm Normal  Strong Warm.1    Same  Yes\n",
       "0  Sunny  Warm   High  Strong   Warm    Same  Yes\n",
       "1  Rainy  Cold   High  Strong   Warm  Change   No\n",
       "2  Sunny  Warm   High  Strong   Cool  Change  Yes"
      ]
     },
     "execution_count": 3,
     "metadata": {},
     "output_type": "execute_result"
    }
   ],
   "source": [
    "data"
   ]
  },
  {
   "cell_type": "code",
   "execution_count": 4,
   "id": "98221889",
   "metadata": {},
   "outputs": [],
   "source": [
    "# Open the csv file \"Candidate_Algo_DS.csv\"\n",
    "with open(\"Candidate_Algo_DS.csv\") as f:\n",
    " # Read the contents of the file using the csv reader\n",
    " csv_file = csv.reader(f)\n",
    " # Convert the contents to a list of lists\n",
    " data = list(csv_file)\n"
   ]
  },
  {
   "cell_type": "code",
   "execution_count": 5,
   "id": "2b4f34de",
   "metadata": {},
   "outputs": [
    {
     "data": {
      "text/plain": [
       "[['Sunny', 'Warm', 'Normal', 'Strong', 'Warm', 'Same', 'Yes'],\n",
       " ['Sunny', 'Warm', 'High', 'Strong', 'Warm', 'Same', 'Yes'],\n",
       " ['Rainy', 'Cold', 'High', 'Strong', 'Warm', 'Change', 'No'],\n",
       " ['Sunny', 'Warm', 'High', 'Strong', 'Cool', 'Change', 'Yes']]"
      ]
     },
     "execution_count": 5,
     "metadata": {},
     "output_type": "execute_result"
    }
   ],
   "source": [
    "data"
   ]
  },
  {
   "cell_type": "code",
   "execution_count": 6,
   "id": "0c230ede",
   "metadata": {},
   "outputs": [],
   "source": [
    "# Initialize the specific hypothesis with the first row of the data, excluding the last column\n",
    "specific = data[0][:-1]\n",
    "# Initialize the general hypothesis with a list of \"?\" of the same length as the specific hypothesis\n",
    "general = [['?' for i in range(len(specific))] for j in range(len(specific))]\n"
   ]
  },
  {
   "cell_type": "code",
   "execution_count": 7,
   "id": "3825b416",
   "metadata": {},
   "outputs": [
    {
     "data": {
      "text/plain": [
       "['Sunny', 'Warm', 'Normal', 'Strong', 'Warm', 'Same']"
      ]
     },
     "execution_count": 7,
     "metadata": {},
     "output_type": "execute_result"
    }
   ],
   "source": [
    "specific"
   ]
  },
  {
   "cell_type": "code",
   "execution_count": 8,
   "id": "a5389c6c",
   "metadata": {},
   "outputs": [
    {
     "data": {
      "text/plain": [
       "[['?', '?', '?', '?', '?', '?'],\n",
       " ['?', '?', '?', '?', '?', '?'],\n",
       " ['?', '?', '?', '?', '?', '?'],\n",
       " ['?', '?', '?', '?', '?', '?'],\n",
       " ['?', '?', '?', '?', '?', '?'],\n",
       " ['?', '?', '?', '?', '?', '?']]"
      ]
     },
     "execution_count": 8,
     "metadata": {},
     "output_type": "execute_result"
    }
   ],
   "source": [
    "general"
   ]
  },
  {
   "cell_type": "code",
   "execution_count": 14,
   "id": "7bf521bd",
   "metadata": {},
   "outputs": [
    {
     "name": "stdout",
     "output_type": "stream",
     "text": [
      "\n",
      "Step 1 of Candidate Elimination Algorithm\n",
      "['Sunny', 'Warm', 'Normal', 'Strong', 'Warm', 'Same']\n",
      "[['?', '?', '?', '?', '?', '?'], ['?', '?', '?', '?', '?', '?'], ['?', '?', '?', '?', '?', '?'], ['?', '?', '?', '?', '?', '?'], ['?', '?', '?', '?', '?', '?'], ['?', '?', '?', '?', '?', '?']]\n",
      "\n",
      "Step 2 of Candidate Elimination Algorithm\n",
      "['Sunny', 'Warm', '?', 'Strong', 'Warm', 'Same']\n",
      "[['?', '?', '?', '?', '?', '?'], ['?', '?', '?', '?', '?', '?'], ['?', '?', '?', '?', '?', '?'], ['?', '?', '?', '?', '?', '?'], ['?', '?', '?', '?', '?', '?'], ['?', '?', '?', '?', '?', '?']]\n",
      "\n",
      "Step 3 of Candidate Elimination Algorithm\n",
      "['Sunny', 'Warm', '?', 'Strong', 'Warm', 'Same']\n",
      "[['Sunny', '?', '?', '?', '?', '?'], ['?', 'Warm', '?', '?', '?', '?'], ['?', '?', '?', '?', '?', '?'], ['?', '?', '?', '?', '?', '?'], ['?', '?', '?', '?', '?', '?'], ['?', '?', '?', '?', '?', 'Same']]\n",
      "\n",
      "Step 4 of Candidate Elimination Algorithm\n",
      "['Sunny', 'Warm', '?', 'Strong', '?', '?']\n",
      "[['Sunny', '?', '?', '?', '?', '?'], ['?', 'Warm', '?', '?', '?', '?'], ['?', '?', '?', '?', '?', '?'], ['?', '?', '?', '?', '?', '?'], ['?', '?', '?', '?', '?', '?'], ['?', '?', '?', '?', '?', '?']]\n"
     ]
    }
   ],
   "source": [
    "# Iterate over each row in the data\n",
    "for i in data:\n",
    "     # If the last column of the current row is \"Yes\"\n",
    "    if i[-1] == \"Yes\":\n",
    "        # Iterate over each column in the current row\n",
    "         for j in range(len(specific)):\n",
    "             # If the current column value is not equal to the corresponding value in the specific hypothesis\n",
    "             if i[j] != specific[j]:\n",
    "                 # Update the corresponding value in the specific hypothesis to \"?\"\n",
    "                 specific[j] = \"?\"\n",
    "                 # Update the corresponding value in the general hypothesis to \"?\"\n",
    "                 general[j][j] = \"?\"\n",
    "    \n",
    "    \n",
    "     # If the last column of the current row is \"No\"\n",
    "    elif i[-1] == \"No\":\n",
    "         # Iterate over each column in the current row\n",
    "        for j in range(len(specific)):\n",
    "         # If the current column value is not equal to the corresponding value in the specific hypothesis\n",
    "            if i[j] != specific[j]:\n",
    "            # Update the corresponding value in the general hypothesis to the corresponding value in the specific hypothesis\n",
    "                 general[j][j] = specific[j]\n",
    "            else:\n",
    "             # If the current column value is equal to the corresponding value in the specific hypothesis, update the corresponding val\n",
    "                 general[j][j] = \"?\"\n",
    "    \n",
    "    \n",
    " # Print the current step of the algorithm and the values of the specific and general hypotheses\n",
    "    print(\"\\nStep \" + str(data.index(i)+1) + \" of Candidate Elimination Algorithm\")\n",
    "    print(specific)\n",
    "    print(general)\n"
   ]
  },
  {
   "cell_type": "code",
   "execution_count": 15,
   "id": "2f807264",
   "metadata": {},
   "outputs": [
    {
     "name": "stdout",
     "output_type": "stream",
     "text": [
      "\n",
      "Final Specific hypothesis:\n",
      " ['Sunny', 'Warm', '?', 'Strong', '?', '?']\n",
      "\n",
      "Final General hypothesis:\n",
      " [['Sunny', '?', '?', '?', '?', '?'], ['?', 'Warm', '?', '?', '?', '?']]\n"
     ]
    }
   ],
   "source": [
    "# Initialize the final general hypothesis list\n",
    "gh = []\n",
    "# Iterate over each list in the general hypothesis\n",
    "for i in general:\n",
    "    # Iterate over each value in the current list\n",
    "     for j in i:\n",
    "         # If the current value is not \"?\"\n",
    "        if j != '?':\n",
    "         # Add the current list to the final general hypothesis list\n",
    "             gh.append(i)\n",
    "             break\n",
    "                \n",
    "# Print the final specific and general hypotheses\n",
    "print(\"\\nFinal Specific hypothesis:\\n\", specific)\n",
    "print(\"\\nFinal General hypothesis:\\n\", gh)"
   ]
  },
  {
   "cell_type": "code",
   "execution_count": null,
   "id": "3614b702",
   "metadata": {},
   "outputs": [],
   "source": []
  }
 ],
 "metadata": {
  "kernelspec": {
   "display_name": "Python 3 (ipykernel)",
   "language": "python",
   "name": "python3"
  },
  "language_info": {
   "codemirror_mode": {
    "name": "ipython",
    "version": 3
   },
   "file_extension": ".py",
   "mimetype": "text/x-python",
   "name": "python",
   "nbconvert_exporter": "python",
   "pygments_lexer": "ipython3",
   "version": "3.9.13"
  }
 },
 "nbformat": 4,
 "nbformat_minor": 5
}
